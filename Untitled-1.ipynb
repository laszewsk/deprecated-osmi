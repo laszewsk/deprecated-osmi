{
 "cells": [
  {
   "cell_type": "code",
   "execution_count": null,
   "metadata": {},
   "outputs": [],
   "source": [
    "import pandas as pd\n",
    "import matplotlib.pyplot as plt\n",
    "\n",
    "data = pd.read_csv('benchmark/results.csv')\n",
    "data"
   ]
  },
  {
   "attachments": {},
   "cell_type": "markdown",
   "metadata": {},
   "source": [
    "Fig. 7.\n",
    "Throughput vs. GPUs"
   ]
  },
  {
   "cell_type": "code",
   "execution_count": null,
   "metadata": {},
   "outputs": [],
   "source": [
    "small_data = data[data['other params']=constant and data['Model']=='small_lstm']\n",
    "medium_data = data[data['other params']=constant and data['Model']=='medium_cnn']\n",
    "large_data = data[data['other params']=constant and data['Model']=='large_tcnn']\n",
    "\n",
    "fig, ax = plt.subplots()\n",
    "ax.plot(small_data['Throughput (inf/s)'], small_data['ngpus'], label='Throughput/Small')\n",
    "ax.plot(medium_data['Throughput (inf/s)'], medium_data['ngpus'], label='Throughput/Medium')\n",
    "ax.plot(large_data['Throughput (inf/s)'], large_data['ngpus'], label='Throughput/Large')\n",
    "\n",
    "ax.set_title('Throughput vs. GPUs')\n",
    "ax.set_xlabel('GPUs')\n",
    "ax.set_ylabel('Throughput (samples/s)')\n",
    "\n",
    "ax.legend()\n",
    "\n",
    "plt.show()"
   ]
  },
  {
   "attachments": {},
   "cell_type": "markdown",
   "metadata": {},
   "source": [
    "Fig. 9.\n",
    "Per-GPU Throughput (samples/s) vs. Batch Size"
   ]
  },
  {
   "attachments": {},
   "cell_type": "markdown",
   "metadata": {},
   "source": [
    "Fig. 6.\n",
    "Total time to inference 32768 Samples (s)"
   ]
  },
  {
   "attachments": {},
   "cell_type": "markdown",
   "metadata": {},
   "source": [
    "Fig. 4.\n",
    "Throughput (samples/s) vs. Batch Size"
   ]
  },
  {
   "cell_type": "code",
   "execution_count": null,
   "metadata": {},
   "outputs": [],
   "source": []
  }
 ],
 "metadata": {
  "kernelspec": {
   "display_name": "AMPTorch (20201028) Active Learning",
   "language": "python",
   "name": "amptorch-20201028-al"
  },
  "orig_nbformat": 4
 },
 "nbformat": 4,
 "nbformat_minor": 2
}
