{
 "cells": [
  {
   "cell_type": "code",
   "execution_count": 33,
   "metadata": {},
   "outputs": [
    {
     "name": "stdout",
     "output_type": "stream",
     "text": [
      "Requirement already satisfied: pandas in /Users/grey/ENV3.12/lib/python3.12/site-packages (2.1.4)\n",
      "Requirement already satisfied: numpy<2,>=1.26.0 in /Users/grey/ENV3.12/lib/python3.12/site-packages (from pandas) (1.26.2)\n",
      "Requirement already satisfied: python-dateutil>=2.8.2 in /Users/grey/ENV3.12/lib/python3.12/site-packages (from pandas) (2.8.2)\n",
      "Requirement already satisfied: pytz>=2020.1 in /Users/grey/ENV3.12/lib/python3.12/site-packages (from pandas) (2023.3.post1)\n",
      "Requirement already satisfied: tzdata>=2022.1 in /Users/grey/ENV3.12/lib/python3.12/site-packages (from pandas) (2023.3)\n",
      "Requirement already satisfied: six>=1.5 in /Users/grey/ENV3.12/lib/python3.12/site-packages (from python-dateutil>=2.8.2->pandas) (1.16.0)\n",
      "Requirement already satisfied: matplotlib in /Users/grey/ENV3.12/lib/python3.12/site-packages (3.8.2)\n",
      "Requirement already satisfied: contourpy>=1.0.1 in /Users/grey/ENV3.12/lib/python3.12/site-packages (from matplotlib) (1.2.0)\n",
      "Requirement already satisfied: cycler>=0.10 in /Users/grey/ENV3.12/lib/python3.12/site-packages (from matplotlib) (0.12.1)\n",
      "Requirement already satisfied: fonttools>=4.22.0 in /Users/grey/ENV3.12/lib/python3.12/site-packages (from matplotlib) (4.47.0)\n",
      "Requirement already satisfied: kiwisolver>=1.3.1 in /Users/grey/ENV3.12/lib/python3.12/site-packages (from matplotlib) (1.4.5)\n",
      "Requirement already satisfied: numpy<2,>=1.21 in /Users/grey/ENV3.12/lib/python3.12/site-packages (from matplotlib) (1.26.2)\n",
      "Requirement already satisfied: packaging>=20.0 in /Users/grey/ENV3.12/lib/python3.12/site-packages (from matplotlib) (23.2)\n",
      "Requirement already satisfied: pillow>=8 in /Users/grey/ENV3.12/lib/python3.12/site-packages (from matplotlib) (10.1.0)\n",
      "Requirement already satisfied: pyparsing>=2.3.1 in /Users/grey/ENV3.12/lib/python3.12/site-packages (from matplotlib) (3.1.1)\n",
      "Requirement already satisfied: python-dateutil>=2.7 in /Users/grey/ENV3.12/lib/python3.12/site-packages (from matplotlib) (2.8.2)\n",
      "Requirement already satisfied: six>=1.5 in /Users/grey/ENV3.12/lib/python3.12/site-packages (from python-dateutil>=2.7->matplotlib) (1.16.0)\n",
      "Requirement already satisfied: seaborn in /Users/grey/ENV3.12/lib/python3.12/site-packages (0.13.0)\n",
      "Requirement already satisfied: numpy!=1.24.0,>=1.20 in /Users/grey/ENV3.12/lib/python3.12/site-packages (from seaborn) (1.26.2)\n",
      "Requirement already satisfied: pandas>=1.2 in /Users/grey/ENV3.12/lib/python3.12/site-packages (from seaborn) (2.1.4)\n",
      "Requirement already satisfied: matplotlib!=3.6.1,>=3.3 in /Users/grey/ENV3.12/lib/python3.12/site-packages (from seaborn) (3.8.2)\n",
      "Requirement already satisfied: contourpy>=1.0.1 in /Users/grey/ENV3.12/lib/python3.12/site-packages (from matplotlib!=3.6.1,>=3.3->seaborn) (1.2.0)\n",
      "Requirement already satisfied: cycler>=0.10 in /Users/grey/ENV3.12/lib/python3.12/site-packages (from matplotlib!=3.6.1,>=3.3->seaborn) (0.12.1)\n",
      "Requirement already satisfied: fonttools>=4.22.0 in /Users/grey/ENV3.12/lib/python3.12/site-packages (from matplotlib!=3.6.1,>=3.3->seaborn) (4.47.0)\n",
      "Requirement already satisfied: kiwisolver>=1.3.1 in /Users/grey/ENV3.12/lib/python3.12/site-packages (from matplotlib!=3.6.1,>=3.3->seaborn) (1.4.5)\n",
      "Requirement already satisfied: packaging>=20.0 in /Users/grey/ENV3.12/lib/python3.12/site-packages (from matplotlib!=3.6.1,>=3.3->seaborn) (23.2)\n",
      "Requirement already satisfied: pillow>=8 in /Users/grey/ENV3.12/lib/python3.12/site-packages (from matplotlib!=3.6.1,>=3.3->seaborn) (10.1.0)\n",
      "Requirement already satisfied: pyparsing>=2.3.1 in /Users/grey/ENV3.12/lib/python3.12/site-packages (from matplotlib!=3.6.1,>=3.3->seaborn) (3.1.1)\n",
      "Requirement already satisfied: python-dateutil>=2.7 in /Users/grey/ENV3.12/lib/python3.12/site-packages (from matplotlib!=3.6.1,>=3.3->seaborn) (2.8.2)\n",
      "Requirement already satisfied: pytz>=2020.1 in /Users/grey/ENV3.12/lib/python3.12/site-packages (from pandas>=1.2->seaborn) (2023.3.post1)\n",
      "Requirement already satisfied: tzdata>=2022.1 in /Users/grey/ENV3.12/lib/python3.12/site-packages (from pandas>=1.2->seaborn) (2023.3)\n",
      "Requirement already satisfied: six>=1.5 in /Users/grey/ENV3.12/lib/python3.12/site-packages (from python-dateutil>=2.7->matplotlib!=3.6.1,>=3.3->seaborn) (1.16.0)\n"
     ]
    }
   ],
   "source": [
    "! pip install pandas\n",
    "! pip install matplotlib\n",
    "! pip install seaborn"
   ]
  },
  {
   "cell_type": "code",
   "execution_count": 37,
   "metadata": {},
   "outputs": [],
   "source": [
    "import pandas as pd\n",
    "import glob\n",
    "import seaborn as sns\n",
    "import matplotlib.pyplot as plt"
   ]
  },
  {
   "cell_type": "code",
   "execution_count": 41,
   "metadata": {},
   "outputs": [
    {
     "name": "stdout",
     "output_type": "stream",
     "text": [
      "       time         tag\n",
      "0   305.509  large_tcnn\n",
      "1   303.205  large_tcnn\n",
      "2   306.761  large_tcnn\n",
      "3   315.340  large_tcnn\n",
      "4    14.714  medium_cnn\n",
      "5    14.637  medium_cnn\n",
      "6    15.128  medium_cnn\n",
      "7     3.360  small_lstm\n",
      "8    14.850  medium_cnn\n",
      "9    14.510  medium_cnn\n",
      "10    3.263  small_lstm\n",
      "11    3.211  small_lstm\n",
      "12    3.271  small_lstm\n",
      "13    3.242  small_lstm\n",
      "14    3.344  small_lstm\n",
      "15  311.667  large_tcnn\n",
      "16  315.577  large_tcnn\n",
      "17  312.909  large_tcnn\n",
      "18  311.488  large_tcnn\n",
      "19  310.802  large_tcnn\n",
      "20   14.917  medium_cnn\n",
      "21   14.839  medium_cnn\n",
      "22   14.765  medium_cnn\n",
      "23   14.109  medium_cnn\n",
      "24   14.905  medium_cnn\n",
      "25    3.229  small_lstm\n",
      "26    3.231  small_lstm\n",
      "27    3.224  small_lstm\n",
      "28    3.261  small_lstm\n"
     ]
    }
   ],
   "source": [
    "# Create an empty DataFrame\n",
    "df = pd.DataFrame()\n",
    "\n",
    "# Get a list of all log.txt files in the project directory\n",
    "log_files = glob.glob('project/*/log.txt')\n",
    "\n",
    "# Iterate over each log file\n",
    "for log_file in log_files:\n",
    "    with open(log_file, 'r') as file:\n",
    "        for line in file:\n",
    "            if '# csv,timer' in line:\n",
    "                header = line.strip().split(',')\n",
    "            elif '# csv,total' in line:\n",
    "                line = line.strip().split(',')\n",
    "                # Create a dictionary with keys from header and values from line\n",
    "                data_dict = dict(zip(header, line))\n",
    "                # Delete specified keys from the dictionary\n",
    "                del data_dict['uname.node']\n",
    "                del data_dict['user']\n",
    "                del data_dict['uname.system']\n",
    "                del data_dict['platform.version']\n",
    "                del data_dict['msg']\n",
    "                del data_dict['start']\n",
    "                del data_dict['sum']\n",
    "                del data_dict['# csv']\n",
    "                del data_dict['status']\n",
    "                del data_dict['timer']\n",
    "                # Append data_dict to df\n",
    "                df = pd.concat([df, pd.DataFrame(data_dict, index=[0])], ignore_index=True)\n",
    "\n",
    "\n",
    "df['time'] = df['time'].astype(float)\n",
    "print(df)\n",
    "\n"
   ]
  },
  {
   "cell_type": "code",
   "execution_count": 48,
   "metadata": {},
   "outputs": [
    {
     "data": {
      "image/png": "[encoded data removed]",
      "text/plain": [
       "<Figure size 640x480 with 1 Axes>"
      ]
     },
     "metadata": {},
     "output_type": "display_data"
    }
   ],
   "source": [
    "sns.barplot(x=df['tag'], y=df['time'])\n",
    "\n",
    "# Set the labels and title\n",
    "plt.xlabel('Model')\n",
    "plt.ylabel('Time (s)')\n",
    "plt.title('Training time for the models')\n",
    "\n",
    "# Set the y-axis to log scale\n",
    "#plt.yscale('log')\n",
    "\n",
    "# Set the y-axis formatter to display integers\n",
    "#plt.gca().yaxis.set_major_formatter(plt.ScalarFormatter(useOffset=False))\n",
    "\n",
    "\n",
    "# Show the plot\n",
    "plt.show()\n"
   ]
  },
  {
   "cell_type": "code",
   "execution_count": null,
   "metadata": {},
   "outputs": [],
   "source": []
  }
 ],
 "metadata": {
  "kernelspec": {
   "display_name": "ENV3.12",
   "language": "python",
   "name": "python3"
  },
  "language_info": {
   "codemirror_mode": {
    "name": "ipython",
    "version": 3
   },
   "file_extension": ".py",
   "mimetype": "text/x-python",
   "name": "python",
   "nbconvert_exporter": "python",
   "pygments_lexer": "ipython3",
   "version": "3.12.1"
  }
 },
 "nbformat": 4,
 "nbformat_minor": 2
}
